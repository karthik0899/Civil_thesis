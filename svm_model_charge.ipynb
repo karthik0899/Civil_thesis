{
 "cells": [
  {
   "cell_type": "code",
   "execution_count": 19,
   "metadata": {},
   "outputs": [],
   "source": [
    "\n",
    "import numpy as np\n",
    "import pandas as pd\n",
    "from sklearn.model_selection import train_test_split, GridSearchCV\n",
    "from sklearn.svm import SVR\n",
    "from sklearn.preprocessing import StandardScaler, OneHotEncoder\n",
    "from sklearn.compose import ColumnTransformer\n",
    "from sklearn.pipeline import Pipeline\n",
    "from sklearn.metrics import mean_squared_error, r2_score\n",
    "import joblib # joblib is used to save and load models\n",
    "\n"
   ]
  },
  {
   "cell_type": "code",
   "execution_count": 15,
   "metadata": {},
   "outputs": [
    {
     "name": "stderr",
     "output_type": "stream",
     "text": [
      "<>:1: SyntaxWarning: invalid escape sequence '\\m'\n",
      "<>:1: SyntaxWarning: invalid escape sequence '\\m'\n",
      "C:\\Users\\karthik rathod\\AppData\\Local\\Temp\\ipykernel_14776\\1051363691.py:1: SyntaxWarning: invalid escape sequence '\\m'\n",
      "  df = pd.read_csv('C:\\myprojects\\civil\\data_concret_charge.csv')\n"
     ]
    },
    {
     "data": {
      "text/html": [
       "<div>\n",
       "<style scoped>\n",
       "    .dataframe tbody tr th:only-of-type {\n",
       "        vertical-align: middle;\n",
       "    }\n",
       "\n",
       "    .dataframe tbody tr th {\n",
       "        vertical-align: top;\n",
       "    }\n",
       "\n",
       "    .dataframe thead th {\n",
       "        text-align: right;\n",
       "    }\n",
       "</style>\n",
       "<table border=\"1\" class=\"dataframe\">\n",
       "  <thead>\n",
       "    <tr style=\"text-align: right;\">\n",
       "      <th></th>\n",
       "      <th>grade</th>\n",
       "      <th>perc_GF</th>\n",
       "      <th>time</th>\n",
       "      <th>charge</th>\n",
       "    </tr>\n",
       "  </thead>\n",
       "  <tbody>\n",
       "    <tr>\n",
       "      <th>0</th>\n",
       "      <td>M20</td>\n",
       "      <td>0.00</td>\n",
       "      <td>90</td>\n",
       "      <td>3450</td>\n",
       "    </tr>\n",
       "    <tr>\n",
       "      <th>1</th>\n",
       "      <td>M20</td>\n",
       "      <td>0.00</td>\n",
       "      <td>180</td>\n",
       "      <td>3165</td>\n",
       "    </tr>\n",
       "    <tr>\n",
       "      <th>2</th>\n",
       "      <td>M20</td>\n",
       "      <td>0.00</td>\n",
       "      <td>365</td>\n",
       "      <td>2912</td>\n",
       "    </tr>\n",
       "    <tr>\n",
       "      <th>3</th>\n",
       "      <td>M20</td>\n",
       "      <td>0.00</td>\n",
       "      <td>720</td>\n",
       "      <td>2810</td>\n",
       "    </tr>\n",
       "    <tr>\n",
       "      <th>4</th>\n",
       "      <td>M20</td>\n",
       "      <td>0.03</td>\n",
       "      <td>90</td>\n",
       "      <td>3100</td>\n",
       "    </tr>\n",
       "    <tr>\n",
       "      <th>5</th>\n",
       "      <td>M20</td>\n",
       "      <td>0.03</td>\n",
       "      <td>180</td>\n",
       "      <td>2512</td>\n",
       "    </tr>\n",
       "    <tr>\n",
       "      <th>6</th>\n",
       "      <td>M20</td>\n",
       "      <td>0.03</td>\n",
       "      <td>365</td>\n",
       "      <td>2478</td>\n",
       "    </tr>\n",
       "    <tr>\n",
       "      <th>7</th>\n",
       "      <td>M20</td>\n",
       "      <td>0.03</td>\n",
       "      <td>720</td>\n",
       "      <td>2462</td>\n",
       "    </tr>\n",
       "    <tr>\n",
       "      <th>8</th>\n",
       "      <td>M20</td>\n",
       "      <td>0.06</td>\n",
       "      <td>90</td>\n",
       "      <td>2972</td>\n",
       "    </tr>\n",
       "    <tr>\n",
       "      <th>9</th>\n",
       "      <td>M20</td>\n",
       "      <td>0.06</td>\n",
       "      <td>180</td>\n",
       "      <td>2413</td>\n",
       "    </tr>\n",
       "    <tr>\n",
       "      <th>10</th>\n",
       "      <td>M20</td>\n",
       "      <td>0.06</td>\n",
       "      <td>365</td>\n",
       "      <td>2172</td>\n",
       "    </tr>\n",
       "    <tr>\n",
       "      <th>11</th>\n",
       "      <td>M20</td>\n",
       "      <td>0.06</td>\n",
       "      <td>720</td>\n",
       "      <td>2163</td>\n",
       "    </tr>\n",
       "    <tr>\n",
       "      <th>12</th>\n",
       "      <td>M20</td>\n",
       "      <td>0.10</td>\n",
       "      <td>90</td>\n",
       "      <td>2843</td>\n",
       "    </tr>\n",
       "    <tr>\n",
       "      <th>13</th>\n",
       "      <td>M20</td>\n",
       "      <td>0.10</td>\n",
       "      <td>180</td>\n",
       "      <td>2212</td>\n",
       "    </tr>\n",
       "    <tr>\n",
       "      <th>14</th>\n",
       "      <td>M20</td>\n",
       "      <td>0.10</td>\n",
       "      <td>365</td>\n",
       "      <td>2115</td>\n",
       "    </tr>\n",
       "    <tr>\n",
       "      <th>15</th>\n",
       "      <td>M20</td>\n",
       "      <td>0.10</td>\n",
       "      <td>720</td>\n",
       "      <td>2085</td>\n",
       "    </tr>\n",
       "    <tr>\n",
       "      <th>16</th>\n",
       "      <td>M30</td>\n",
       "      <td>0.00</td>\n",
       "      <td>90</td>\n",
       "      <td>2950</td>\n",
       "    </tr>\n",
       "    <tr>\n",
       "      <th>17</th>\n",
       "      <td>M30</td>\n",
       "      <td>0.00</td>\n",
       "      <td>180</td>\n",
       "      <td>2462</td>\n",
       "    </tr>\n",
       "    <tr>\n",
       "      <th>18</th>\n",
       "      <td>M30</td>\n",
       "      <td>0.00</td>\n",
       "      <td>365</td>\n",
       "      <td>2182</td>\n",
       "    </tr>\n",
       "    <tr>\n",
       "      <th>19</th>\n",
       "      <td>M30</td>\n",
       "      <td>0.00</td>\n",
       "      <td>720</td>\n",
       "      <td>2083</td>\n",
       "    </tr>\n",
       "  </tbody>\n",
       "</table>\n",
       "</div>"
      ],
      "text/plain": [
       "   grade  perc_GF time  charge\n",
       "0    M20     0.00   90    3450\n",
       "1    M20     0.00  180    3165\n",
       "2    M20     0.00  365    2912\n",
       "3    M20     0.00  720    2810\n",
       "4    M20     0.03   90    3100\n",
       "5    M20     0.03  180    2512\n",
       "6    M20     0.03  365    2478\n",
       "7    M20     0.03  720    2462\n",
       "8    M20     0.06   90    2972\n",
       "9    M20     0.06  180    2413\n",
       "10   M20     0.06  365    2172\n",
       "11   M20     0.06  720    2163\n",
       "12   M20     0.10   90    2843\n",
       "13   M20     0.10  180    2212\n",
       "14   M20     0.10  365    2115\n",
       "15   M20     0.10  720    2085\n",
       "16   M30     0.00   90    2950\n",
       "17   M30     0.00  180    2462\n",
       "18   M30     0.00  365    2182\n",
       "19   M30     0.00  720    2083"
      ]
     },
     "execution_count": 15,
     "metadata": {},
     "output_type": "execute_result"
    }
   ],
   "source": [
    "df = pd.read_csv('C:\\myprojects\\civil\\data_concret_charge.csv')\n",
    "df[\"time\"] = df[\"time\"].astype(str)"
   ]
  },
  {
   "cell_type": "code",
   "execution_count": 11,
   "metadata": {},
   "outputs": [
    {
     "name": "stderr",
     "output_type": "stream",
     "text": [
      "<>:2: SyntaxWarning: invalid escape sequence '\\m'\n",
      "<>:2: SyntaxWarning: invalid escape sequence '\\m'\n",
      "C:\\Users\\karthik rathod\\AppData\\Local\\Temp\\ipykernel_14776\\1142680894.py:2: SyntaxWarning: invalid escape sequence '\\m'\n",
      "  df = pd.read_csv('C:\\myprojects\\civil\\data_concret_charge.csv')\n"
     ]
    }
   ],
   "source": [
    "\n",
    "# Assuming df is your DataFrame containing the data\n",
    "df = pd.read_csv('C:\\myprojects\\civil\\data_concret_charge.csv')\n",
    "df[\"time\"] = df[\"time\"].astype(str)\n",
    "\n",
    "# Step 1: Data Preparation\n",
    "X = df[['grade', 'perc_GF', 'time']]  # Features\n",
    "y = df['charge']  # Target variable\n",
    "\n",
    "# Preprocessing for categorical features (grade and time)\n",
    "categorical_features = ['grade', 'time']\n",
    "categorical_transformer = Pipeline(steps=[\n",
    "    ('onehot', OneHotEncoder(handle_unknown='ignore'))\n",
    "])\n",
    "\n",
    "# Preprocessing for numerical features (perc_GF)\n",
    "numerical_transformer = StandardScaler()\n",
    "\n",
    "# Bundle preprocessing for numerical and categorical features\n",
    "preprocessor = ColumnTransformer(\n",
    "    transformers=[\n",
    "        ('num', numerical_transformer, ['perc_GF']),\n",
    "        ('cat', categorical_transformer, categorical_features)\n",
    "    ])\n"
   ]
  },
  {
   "cell_type": "code",
   "execution_count": 12,
   "metadata": {},
   "outputs": [
    {
     "name": "stdout",
     "output_type": "stream",
     "text": [
      "Best Parameters: {'regressor__C': 100, 'regressor__gamma': 'scale', 'regressor__kernel': 'linear'}\n",
      "Best Score: -119225.42106053745\n"
     ]
    }
   ],
   "source": [
    "\n",
    "# Step 3: Model Selection\n",
    "svr = SVR()\n",
    "\n",
    "# Pipeline with preprocessing and model\n",
    "clf = Pipeline(steps=[('preprocessor', preprocessor),\n",
    "                      ('regressor', svr)])\n",
    "\n",
    "# Step 4: Cross-Validation Grid Search\n",
    "param_grid = {\n",
    "    'regressor__C': [0.1, 1, 10, 100],  # Regularization parameter\n",
    "    'regressor__kernel': ['linear', 'rbf', 'poly'],  # Kernel type\n",
    "    'regressor__gamma': ['scale', 'auto']  # Kernel coefficient\n",
    "}\n",
    "\n",
    "grid_search = GridSearchCV(estimator=clf, param_grid=param_grid, cv=5, scoring='neg_mean_squared_error')\n",
    "grid_search.fit(X, y)\n",
    "\n",
    "# Best parameters found\n",
    "print(\"Best Parameters:\", grid_search.best_params_)\n",
    "\n",
    "# Best cross-validation score\n",
    "print(\"Best Score:\", grid_search.best_score_)\n"
   ]
  },
  {
   "cell_type": "code",
   "execution_count": 13,
   "metadata": {},
   "outputs": [
    {
     "name": "stdout",
     "output_type": "stream",
     "text": [
      "Mean Squared Error: 28769.52815735341\n",
      "R-squared Score: 0.9409237546117121\n"
     ]
    }
   ],
   "source": [
    "\n",
    "# Step 5: Model Evaluation\n",
    "best_model = grid_search.best_estimator_\n",
    "\n",
    "# Split data into train and test sets\n",
    "X_train, X_test, y_train, y_test = train_test_split(X, y, test_size=0.2, random_state=42)\n",
    "\n",
    "# Fit the best model on the training data\n",
    "best_model.fit(X_train, y_train)\n",
    "\n",
    "# Predictions on the test set\n",
    "y_pred = best_model.predict(X_test)\n",
    "\n",
    "# Evaluate the model\n",
    "mse = mean_squared_error(y_test, y_pred)\n",
    "r2 = r2_score(y_test, y_pred)\n",
    "print(\"Mean Squared Error:\", mse)\n",
    "print(\"R-squared Score:\", r2)\n"
   ]
  },
  {
   "cell_type": "code",
   "execution_count": 9,
   "metadata": {},
   "outputs": [
    {
     "data": {
      "image/png": "[encoded data removed]",
      "text/plain": [
       "<Figure size 1000x600 with 1 Axes>"
      ]
     },
     "metadata": {},
     "output_type": "display_data"
    }
   ],
   "source": [
    "import matplotlib.pyplot as plt  # Importing the matplotlib library for plotting\n",
    "\n",
    "# Get the predictions using the best model\n",
    "y_pred = best_model.predict(X)  # Making predictions on the input data\n",
    "\n",
    "# Plot the true and predicted values\n",
    "plt.figure(figsize=(10, 6))  # Creating a plot with a specified size\n",
    "plt.plot(y, label='True')  # Plotting the true values\n",
    "plt.plot(y_pred, label='Predicted')  # Plotting the predicted values\n",
    "plt.legend()  # Adding a legend to the plot\n",
    "plt.show()  # Displaying the plot\n"
   ]
  },
  {
   "cell_type": "code",
   "execution_count": 17,
   "metadata": {},
   "outputs": [
    {
     "data": {
      "text/plain": [
       "2638.579507953243"
      ]
     },
     "execution_count": 17,
     "metadata": {},
     "output_type": "execute_result"
    }
   ],
   "source": [
    "# This function takes in grade, time, and perc_GF as inputs\n",
    "# It creates a DataFrame with these inputs\n",
    "# Then it uses the trained SVR model to predict the charge\n",
    "# Finally, it returns the predicted charge\n",
    "def predict_charge(grade, time, perc_GF):\n",
    "    # Create DataFrame with input features\n",
    "    data = pd.DataFrame({'grade': [grade], 'time': [time], 'perc_GF': [perc_GF]})\n",
    "    \n",
    "    # Predict charge using the trained SVR model\n",
    "    charge_pred = best_model.predict(data)\n",
    "    \n",
    "    return charge_pred[0]\n",
    "\n",
    "# Call the function with sample inputs\n",
    "predict_charge('M30', '90', 0.0)"
   ]
  },
  {
   "cell_type": "code",
   "execution_count": 20,
   "metadata": {},
   "outputs": [
    {
     "data": {
      "text/plain": [
       "['svm_best_model_charge.pkl']"
      ]
     },
     "execution_count": 20,
     "metadata": {},
     "output_type": "execute_result"
    }
   ],
   "source": [
    "# Save the best model to a file\n",
    "joblib.dump(best_model, 'svm_best_model_charge.pkl')\n"
   ]
  },
  {
   "cell_type": "code",
   "execution_count": null,
   "metadata": {},
   "outputs": [],
   "source": []
  }
 ],
 "metadata": {
  "kernelspec": {
   "display_name": "scrape_env",
   "language": "python",
   "name": "python3"
  },
  "language_info": {
   "codemirror_mode": {
    "name": "ipython",
    "version": 3
   },
   "file_extension": ".py",
   "mimetype": "text/x-python",
   "name": "python",
   "nbconvert_exporter": "python",
   "pygments_lexer": "ipython3",
   "version": "3.12.1"
  }
 },
 "nbformat": 4,
 "nbformat_minor": 2
}
